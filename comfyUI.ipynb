{
 "cells": [
  {
   "cell_type": "code",
   "execution_count": null,
   "id": "cb4a5d0e-6151-4f6e-98ec-a3ff4cca0332",
   "metadata": {
    "tags": []
   },
   "outputs": [],
   "source": [
    "!git clone --depth 1 https://github.com/comfyanonymous/ComfyUI\n",
    "!pip install pyngrok\n",
    "%cd ~/ComfyUI\n",
    "!pip install -r requirements.txt\n",
    "!pip install torchvision"
   ]
  },
  {
   "cell_type": "code",
   "execution_count": null,
   "id": "191fbfa9-fe19-4a70-a80a-fa5b70554465",
   "metadata": {
    "tags": []
   },
   "outputs": [],
   "source": [
    "%cd ~/ComfyUI/custom_nodes\n",
    "!git clone https://github.com/ssitu/ComfyUI_UltimateSDUpscale --recursive\n",
    "!git clone https://github.com/ltdrdata/ComfyUI-Manager\n",
    "!git clone https://github.com/pythongosssss/ComfyUI-Custom-Scripts\n",
    "!git clone https://github.com/city96/SD-Latent-Upscaler\n",
    "!git clone https://github.com/LucianoCirino/efficiency-nodes-comfyui\n",
    "!git clone https://github.com/BlenderNeko/ComfyUI_ADV_CLIP_emb\n",
    "!git clone https://github.com/ssitu/ComfyUI_NestedNodeBuilder\n",
    "!git clone https://github.com/ltdrdata/ComfyUI-Impact-Pack"
   ]
  },
  {
   "cell_type": "code",
   "execution_count": null,
   "id": "ab9b786a-ed96-4ba5-9870-d5eb0b1e5770",
   "metadata": {
    "tags": []
   },
   "outputs": [],
   "source": [
    "!rm -r /home/studio-lab-user/ComfyUI/web/scripts/defaultGraph.js\n",
    "%cd ~/ComfyUI/web/scripts\n",
    "!curl -Lo \"/home/studio-lab-user/ComfyUI/web/scripts/defaultGraph.js\" \"https://huggingface.co/Laft/Workflow_for_ComfyUI/resolve/main/defaultGraph.js\""
   ]
  },
  {
   "cell_type": "code",
   "execution_count": null,
   "id": "94d1ec4b-17c8-4eac-be41-5e7f9d9acdca",
   "metadata": {
    "tags": []
   },
   "outputs": [],
   "source": [
    "%cd ~/ComfyUI/models\n",
    "!git clone https://huggingface.co/Laft/embeddings\n",
    "!aria2c --console-log-level=error -c -x 16 -s 16 -k 1M https://civitai.com/api/download/models/125843 -d /home/studio-lab-user/ComfyUI/models/upscale_models\n",
    "!aria2c --console-log-level=error -c -x 16 -s 16 -k 1M https://civitai.com/api/download/models/190908 -d /home/studio-lab-user/ComfyUI/models/checkpoints"
   ]
  },
  {
   "cell_type": "code",
   "execution_count": null,
   "id": "50bfc2fb-4487-4f93-af22-3b1fb721cb9c",
   "metadata": {
    "tags": []
   },
   "outputs": [],
   "source": [
    "ngrok_token=\"2Pt6cmeDRvGGmaH2ekcRCN4B7k1_56DtSku4D5kjHSadcnujt\"\n",
    "from threading import Timer\n",
    "from queue import Queue\n",
    "from pyngrok import ngrok\n",
    "def ngrok_tunnel(port,queue,auth_token):\n",
    "    ngrok.set_auth_token(auth_token)\n",
    "    url = ngrok.connect(port)\n",
    "    queue.put(url)\n",
    "ngrok_output_queue = Queue()\n",
    "ngrok_thread = Timer(2, ngrok_tunnel, args=(8188, ngrok_output_queue, ngrok_token))\n",
    "ngrok_thread.start()\n",
    "ngrok_thread.join()\n",
    "print(ngrok_output_queue.get())\n",
    "%cd ~/ComfyUI\n",
    "!python main.py --preview-method auto --enable-cors-header --use-pytorch-cross-attention"
   ]
  },
  {
   "cell_type": "code",
   "execution_count": null,
   "id": "9e63fe02-07e1-44ed-addf-b8a0ddf57f2d",
   "metadata": {},
   "outputs": [],
   "source": [
    "#Eliminar Modelos\n",
    "!rm -r /home/studio-lab-user/ComfyUI/models/checkpoints"
   ]
  }
 ],
 "metadata": {
  "kernelspec": {
   "display_name": "default:Python",
   "language": "python",
   "name": "conda-env-default-py"
  },
  "language_info": {
   "codemirror_mode": {
    "name": "ipython",
    "version": 3
   },
   "file_extension": ".py",
   "mimetype": "text/x-python",
   "name": "python",
   "nbconvert_exporter": "python",
   "pygments_lexer": "ipython3",
   "version": "3.9.16"
  }
 },
 "nbformat": 4,
 "nbformat_minor": 5
}
